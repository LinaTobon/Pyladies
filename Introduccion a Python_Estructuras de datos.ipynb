{
 "cells": [
  {
   "cell_type": "markdown",
   "metadata": {},
   "source": [
    "## Estructuras de datos"
   ]
  },
  {
   "cell_type": "markdown",
   "metadata": {},
   "source": [
    "### En Python los tipos básicos se dividen en: \n",
    "\n",
    "* Números, como pueden ser 3 (entero), 15.57 (flotante) o 7 + 5j (complejos) \n",
    "* Cadenas de texto, como \t“Hola Mundo” \n",
    "* Valores booleanos: True (cierto) y False (falso)."
   ]
  },
  {
   "cell_type": "markdown",
   "metadata": {},
   "source": [
    "#### Vamos a crear un par de variables a modo de ejemplo. Una de tipo cadena y una de tipo entero"
   ]
  },
  {
   "cell_type": "code",
   "execution_count": 1,
   "metadata": {},
   "outputs": [
    {
     "name": "stdout",
     "output_type": "stream",
     "text": [
      "la variable c es de tipo <class 'str'>\n",
      "la variable e es de tipo <class 'int'>\n"
     ]
    }
   ],
   "source": [
    "# esto es una cadena \n",
    "c = \"Hola Mundo\"\n",
    "# y esto es un entero \n",
    "e = 23\n",
    "\n",
    "# vamos a comprobarlo\n",
    "print(\"la variable c es de tipo \" + str(type(c)))\n",
    "print(\"la variable e es de tipo \" + str(type(e)))\n"
   ]
  },
  {
   "cell_type": "markdown",
   "metadata": {},
   "source": [
    "### Enteros "
   ]
  },
  {
   "cell_type": "code",
   "execution_count": null,
   "metadata": {},
   "outputs": [],
   "source": [
    "# type(entero) devolvería int \n",
    "entero = 23"
   ]
  },
  {
   "cell_type": "markdown",
   "metadata": {},
   "source": [
    "### Reales\n",
    "#### Los números reales son los que tienen decimales. En Python se expresan mediante el tipo float. "
   ]
  },
  {
   "cell_type": "code",
   "execution_count": 4,
   "metadata": {},
   "outputs": [],
   "source": [
    "#Para representar un número real en Python se escribe primero la parte entera, seguido de un punto y por último la parte decimal.\n",
    "real = 0.2703\n",
    "\n",
    "#También se puede utilizar notación científica, y añadir una e (de exponente) para indicar un exponente en base 10\n",
    "\n",
    "real = 0.1e-3\n",
    "\n",
    "#sería equivalente a 0.1 x 10-3 = 0.1 x 0.001 = 0.0001 "
   ]
  },
  {
   "cell_type": "code",
   "execution_count": 5,
   "metadata": {},
   "outputs": [
    {
     "data": {
      "text/plain": [
       "float"
      ]
     },
     "execution_count": 5,
     "metadata": {},
     "output_type": "execute_result"
    }
   ],
   "source": [
    "type(real)"
   ]
  },
  {
   "cell_type": "markdown",
   "metadata": {},
   "source": [
    "### Complejos"
   ]
  },
  {
   "cell_type": "code",
   "execution_count": 1,
   "metadata": {},
   "outputs": [
    {
     "data": {
      "text/plain": [
       "(2.1+7.8j)"
      ]
     },
     "execution_count": 1,
     "metadata": {},
     "output_type": "execute_result"
    }
   ],
   "source": [
    "\n",
    "complejo = 2.1 + 7.8j\n",
    "complejo\n"
   ]
  },
  {
   "cell_type": "markdown",
   "metadata": {},
   "source": [
    "### Operaciones aritméticas"
   ]
  },
  {
   "cell_type": "code",
   "execution_count": null,
   "metadata": {},
   "outputs": [],
   "source": [
    "#suma\n",
    "r = 3 + 2\n",
    "\n",
    "#resta\n",
    "r = 3 - 2\n",
    "\n",
    "# Negación\n",
    "r = -7\n",
    "\n",
    "# Multiplicación \n",
    "r = 2 * 6    # r es 12 \n",
    "\n",
    "#Exponente \n",
    "r = 2 ** 6   # r es 64\n",
    "\n",
    "# División \n",
    "r = 3.5 / 2  # r es 1.75 \n",
    "\n",
    "# División entera \n",
    "r = 3.5 // 2 # r es 1.0 \n",
    "\n",
    "#Módulo \n",
    "r = 7 % 2    # r es 1 "
   ]
  },
  {
   "cell_type": "code",
   "execution_count": 6,
   "metadata": {},
   "outputs": [],
   "source": [
    "### PYCHALLENGE\n",
    "#p1 = 12%2\n",
    "#p2 = 3.0/2\n",
    "#print(p1)\n",
    "#print(p2)"
   ]
  },
  {
   "cell_type": "markdown",
   "metadata": {},
   "source": [
    "* El operador de módulo devolvuelve  el resto de la división entre los dos operandos. En el ejemplo, 7/2 sería 3, con 1 de resto, luego el módulo es 1. \n",
    "\n",
    "\n",
    "* La diferencia entre división y división entera : En la división el resultado que se devuelve es un número real, mientras que en la división entera el resultado que se devuelve es solo la parte entera. \n",
    "\n",
    "\n",
    "* si utilizamos dos operandos enteros, Python determinará que queremos que la variable resultado también sea un entero, por lo que el resultado de, por ejemplo, 3 / 2 y 3 // 2 sería el mismo: 1. Si quisiéramos obtener los decimales necesitaríamos que al menos uno de los operandos fuera un número real, bien indicando los decimales r = 3.0 / 2 o bien utilizando la función float r = float(3) / 2\n",
    "\n",
    "\n",
    "* Esto es así porque cuando se mezclan tipos de números, Python convierte todos los operandos al tipo más complejo de entre los tipos de los operandos."
   ]
  },
  {
   "cell_type": "markdown",
   "metadata": {},
   "source": [
    "### Cadenas"
   ]
  },
  {
   "cell_type": "markdown",
   "metadata": {},
   "source": [
    "#### Las cadenas no son más que texto encerrado entre comillas simples (‘cadena’) o dobles (“cadena”). Dentro de las comillas se pueden añadir caracteres especiales escapándolos con \\ , como \\n, el carácter de nueva línea, o \\t, el de tabulación."
   ]
  },
  {
   "cell_type": "code",
   "execution_count": 6,
   "metadata": {},
   "outputs": [
    {
     "name": "stdout",
     "output_type": "stream",
     "text": [
      "unodos\n",
      "unouno\n"
     ]
    }
   ],
   "source": [
    "# Las cadenas también admiten operadores como +, que funciona realizando una concatenación de las cadenas utilizadas \n",
    "# como operandos y *, en la que se repite la cadena tantas veces como lo indique el número utilizado como segundo operando\n",
    "\n",
    "a = \"uno\"\n",
    "b = \"dos\"\n",
    "c = a + b # c es “unodos” \n",
    "print(c)\n",
    "d = a * 2 # des “unounouno”\n",
    "print(d)"
   ]
  },
  {
   "cell_type": "code",
   "execution_count": 9,
   "metadata": {},
   "outputs": [
    {
     "name": "stdout",
     "output_type": "stream",
     "text": [
      "Una de mis canciones favoritas de Beatles es \"Maxwell's silver hammer\".\n",
      "La receta auténtica del alioli:\n",
      "- Ajo\n",
      "- Aceite\n",
      "Manzana\tPera\tCiruela\n",
      "Melón\tSandía\tFresa\n"
     ]
    }
   ],
   "source": [
    "#imprimir las propias comillas simples o dobles, con libertad, dentro de un string\n",
    "print('Una de mis canciones favoritas de Beatles es \"Maxwell\\'s silver hammer\".')\n",
    "\n",
    "\n",
    "#string que estuviera compuesto por varias líneas\n",
    "print('La receta auténtica del alioli:\\n- Ajo\\n- Aceite')\n",
    "\n",
    "print('Manzana\\tPera\\tCiruela\\nMelón\\tSandía\\tFresa')"
   ]
  },
  {
   "cell_type": "code",
   "execution_count": 10,
   "metadata": {},
   "outputs": [
    {
     "name": "stdout",
     "output_type": "stream",
     "text": [
      "\n",
      "Una de mis series favoritas era \"La casa de la pradera\"\n",
      "Una de mis canciones favoritas de Beatles es \"Maxwell's silver hammer\"\n",
      "Manzana  Pera  Ciruela\n",
      "Melón  Sandía  Fresa\n"
     ]
    }
   ],
   "source": [
    "# También es posible encerrar una cadena entre triples comillas (simples o dobles). \n",
    "# De esta forma podremos escribir el texto en varias líneas, y al imprimir la cadena, \n",
    "# se respetarán los saltos de línea que introdujimos sin tener que recurrir al carácter \\n, \n",
    "# así como las comillas sin tener que escaparlas.\n",
    "\n",
    "\n",
    "print(\"\"\"\n",
    "Una de mis series favoritas era \"La casa de la pradera\"\n",
    "Una de mis canciones favoritas de Beatles es \"Maxwell's silver hammer\"\n",
    "Manzana  Pera  Ciruela\n",
    "Melón  Sandía  Fresa\"\"\")\n"
   ]
  },
  {
   "cell_type": "markdown",
   "metadata": {},
   "source": [
    "#### 1.PYCHALLENGE ¿Los strings o cadenas son mutables?"
   ]
  },
  {
   "cell_type": "code",
   "execution_count": 3,
   "metadata": {},
   "outputs": [
    {
     "name": "stdout",
     "output_type": "stream",
     "text": [
      "2255806198032\n",
      "2255806198032\n",
      "True\n",
      "\n",
      "2255860607136\n",
      "2255806198032\n",
      "False\n",
      "\n",
      "Python is awesome\n",
      "Python\n"
     ]
    }
   ],
   "source": [
    "text = \"Python\"\n",
    "text2 = text\n",
    "print(id(text))\n",
    "print(id(text2))\n",
    "print(text is text2)\n",
    "print()\n",
    "\n",
    "text += \" is awesome\"\n",
    "print(id(text))\n",
    "print(id(text2))\n",
    "print(text is text2)\n",
    "print()\n",
    "\n",
    "print(text)\n",
    "print(text2)"
   ]
  },
  {
   "cell_type": "markdown",
   "metadata": {},
   "source": [
    "####  intentamos actualizar el valor de un objeto inmutable se crea un nuevo objeto. cuando  actualizamos  la primera cadena, no cambia el valor de la segunda"
   ]
  },
  {
   "cell_type": "markdown",
   "metadata": {},
   "source": [
    "### Booleanos\n",
    "#### Sólo puede tener dos valores: True (cierto) y False (falso). Estos valores son especialmente importantes para las expresiones condicionales y los bucles"
   ]
  },
  {
   "cell_type": "code",
   "execution_count": 1,
   "metadata": {},
   "outputs": [],
   "source": [
    "#son iguales a y b? \n",
    "r = 5 == 3  # r es False \n",
    "# ¿son distintos a y b?\n",
    "r = 5 != 3 # r es True \n",
    "# ¿es a menor que b \n",
    "r = 5 < 3  # r es False \n",
    "# ¿es a mayor que b? \n",
    "r = 5 > 3  # r es True\n",
    "# ¿es a menor o igual que b?\n",
    "r = 5 <= 5 # r es True \n",
    "#¿es a mayor o igual que b? \n",
    "r = 5 >= 3 # r es True"
   ]
  },
  {
   "cell_type": "code",
   "execution_count": 12,
   "metadata": {},
   "outputs": [
    {
     "data": {
      "text/plain": [
       "bool"
      ]
     },
     "execution_count": 12,
     "metadata": {},
     "output_type": "execute_result"
    }
   ],
   "source": [
    "type(r)"
   ]
  },
  {
   "cell_type": "markdown",
   "metadata": {},
   "source": [
    "### Colecciones"
   ]
  },
  {
   "cell_type": "markdown",
   "metadata": {},
   "source": [
    "### Listas\n",
    "* La lista es un tipo de colección ordenada. Sería equivalente a lo que en otros lenguajes se conoce por arrays, o vectores. \n",
    "* Podemos usar sólo aquellos índices que están en el rango de cero hasta uno menos que la longitud de la lista. En una lista de catorce items, los índices son 0, 1, 2, y así sucesivamente, hasta 13\n",
    "\n",
    "### Propiedades de las listas\n",
    "* Son heterogéneas: pueden contener cualquier tipo de dato: números, cadenas, booleanos, … y también listas. \n",
    "* Son mutables: su contenido se puede cambiar \n"
   ]
  },
  {
   "cell_type": "code",
   "execution_count": 13,
   "metadata": {},
   "outputs": [
    {
     "name": "stdout",
     "output_type": "stream",
     "text": [
      "True\n"
     ]
    }
   ],
   "source": [
    "l = [22, True, \"una lista\", [1, 2]]\n",
    "\n",
    "mi_var = l[1]\n",
    "\n",
    "print(mi_var)"
   ]
  },
  {
   "cell_type": "code",
   "execution_count": 41,
   "metadata": {},
   "outputs": [
    {
     "name": "stdout",
     "output_type": "stream",
     "text": [
      "1\n"
     ]
    }
   ],
   "source": [
    "# para acceder a un elemento de una lista incluida dentro de otra lista tendremos que utilizar dos veces este operador, \n",
    "# primero para indicar a qué posición de la lista exterior queremos acceder, \n",
    "# y el segundo para seleccionar el elemento de la lista interior\n",
    "\n",
    "l = [\"una lista\", [1, 2]] \n",
    "mi_var = l[1][0]\n",
    "\n",
    "print(mi_var)"
   ]
  },
  {
   "cell_type": "code",
   "execution_count": 21,
   "metadata": {},
   "outputs": [],
   "source": [
    "# También podemos utilizar este operador para modificar un elemento de la lista si lo colocamos en la parte \n",
    "# izquierda de una asignación:\n",
    "\n",
    "l = [22, True] \n",
    "l[0] = 99 # Con esto L valdrá [99, True]\n",
    "\n",
    "# Si se utiliza un número negativo como índice, esto se traduce en que el índice empieza a contar desde el final, \n",
    "#hacia la izquierda; es decir, con [-1] accederíamos al último elemento de la lista, con [-2] al penúltimo, \n",
    "#con [-3], al antepenúltimo, y así sucesivamente. \n"
   ]
  },
  {
   "cell_type": "code",
   "execution_count": 22,
   "metadata": {},
   "outputs": [
    {
     "name": "stdout",
     "output_type": "stream",
     "text": [
      "[99, True]\n"
     ]
    }
   ],
   "source": [
    "print(l)"
   ]
  },
  {
   "cell_type": "markdown",
   "metadata": {},
   "source": [
    "#### Slicing\n",
    "\n",
    "* mecanismo para seleccionar porciones de la lista. \n",
    "* Si en lugar de un número escribimos dos números inicio y fin separados por dos puntos (inicio:fin) Python interpretará que queremos una lista que vaya desde la posición inicio a la posición fin, sin incluir este último. \n",
    "* Si escribimos tres números (inicio:fin:salto) en lugar de dos, el tercero se utiliza para determinar cada cuantas posiciones añadir un elemento a la lista.\n"
   ]
  },
  {
   "cell_type": "code",
   "execution_count": 15,
   "metadata": {},
   "outputs": [
    {
     "name": "stdout",
     "output_type": "stream",
     "text": [
      "[99, True]\n",
      "[99, [1, 2]]\n"
     ]
    }
   ],
   "source": [
    "l = [99, True, \"una lista\", [1, 2]] \n",
    "mi_var = l[0:2]   # mi_var vale [99, True] \n",
    "print(mi_var)\n",
    "\n",
    "mi_var = l[0:4:2] # mi_var vale [99, “una lista”]\n",
    "print(mi_var)"
   ]
  },
  {
   "cell_type": "code",
   "execution_count": 13,
   "metadata": {
    "scrolled": true
   },
   "outputs": [
    {
     "name": "stdout",
     "output_type": "stream",
     "text": [
      "la longitud de edades es 4\n",
      "el valor maximo de edades es 40\n",
      "el valor minimo de edades es 10\n",
      "el la suma de edades es 103\n"
     ]
    }
   ],
   "source": [
    "# Funciones\n",
    "\n",
    "edades = [10,20,33,40]\n",
    "\n",
    "# Obtener numero de items de la lista\n",
    "\n",
    "print(\"la longitud de edades es \" + str(len(edades)))\n",
    "\n",
    "# Obtener el maximo valor de la lista\n",
    "\n",
    "print(\"el valor maximo de edades es \" + str(max(edades)))\n",
    "\n",
    "# Obtener el minimo valor de la lista\n",
    "\n",
    "print(\"el valor minimo de edades es \" + str(min(edades)))\n",
    "\n",
    "# Obtener la suma de edades\n",
    "\n",
    "print(\"el la suma de edades es \" + str(sum(edades)))\n"
   ]
  },
  {
   "cell_type": "markdown",
   "metadata": {},
   "source": [
    "#### Metodos de las listas"
   ]
  },
  {
   "cell_type": "code",
   "execution_count": 15,
   "metadata": {},
   "outputs": [
    {
     "name": "stdout",
     "output_type": "stream",
     "text": [
      "['red', 'orange', 'green', 'black', 'blue']\n",
      "['red', 'orange', 'green', 'black', 'blue', 'purple']\n",
      "['red', 'orange', 'yellow', 'green', 'black', 'blue', 'purple']\n",
      "['red', 'orange', 'yellow', 'green', 'blue', 'purple']\n"
     ]
    }
   ],
   "source": [
    "colors = 'red orange green black blue'.split() \n",
    "print(colors)\n",
    "\n",
    "colors.append('purple')\n",
    "print(colors)\n",
    " \n",
    "colors.insert(2, 'yellow') \n",
    "print(colors)\n",
    "\n",
    "colors.remove('black')\n",
    "print(colors)"
   ]
  },
  {
   "cell_type": "markdown",
   "metadata": {},
   "source": [
    "### Tuplas\n",
    "\n",
    "* Sequencia inmutable\n",
    "* Hacen que algunas operaciones sean más eficientes y otras más seguras\n",
    "* su diferencia con las listas estriba en que las tuplas no poseen estos mecanismos de modificación a través de funciones tan útiles de los que hablábamos al final de la anterior sección. \n",
    "*  las tuplas son más “ligeras” que las listas, por lo que si el uso que le vamos a dar a una colección es muy básico, puedes utilizar tuplas en lugar de listas y ahorrar memoria"
   ]
  },
  {
   "cell_type": "code",
   "execution_count": 20,
   "metadata": {},
   "outputs": [
    {
     "name": "stdout",
     "output_type": "stream",
     "text": [
      "<class 'tuple'>\n"
     ]
    },
    {
     "ename": "TypeError",
     "evalue": "'tuple' object does not support item assignment",
     "output_type": "error",
     "traceback": [
      "\u001b[1;31m---------------------------------------------------------------------------\u001b[0m",
      "\u001b[1;31mTypeError\u001b[0m                                 Traceback (most recent call last)",
      "\u001b[1;32m<ipython-input-20-f768e8ed336e>\u001b[0m in \u001b[0;36m<module>\u001b[1;34m\u001b[0m\n\u001b[0;32m      7\u001b[0m \u001b[1;33m\u001b[0m\u001b[0m\n\u001b[0;32m      8\u001b[0m \u001b[1;31m# cambiar la lista?\u001b[0m\u001b[1;33m\u001b[0m\u001b[1;33m\u001b[0m\u001b[1;33m\u001b[0m\u001b[0m\n\u001b[1;32m----> 9\u001b[1;33m \u001b[0mt\u001b[0m\u001b[1;33m[\u001b[0m\u001b[1;36m0\u001b[0m\u001b[1;33m]\u001b[0m\u001b[1;33m=\u001b[0m\u001b[1;36m3\u001b[0m\u001b[1;33m\u001b[0m\u001b[1;33m\u001b[0m\u001b[0m\n\u001b[0m",
      "\u001b[1;31mTypeError\u001b[0m: 'tuple' object does not support item assignment"
     ]
    }
   ],
   "source": [
    "t = (1, 2, True, \"python\")\n",
    "print(type(t))\n",
    "\n",
    "y=(1)\n",
    "#primer objeto de la lista\n",
    "#print(t[0])\n",
    "\n",
    "# cambiar la lista?\n",
    "t[0]=3"
   ]
  },
  {
   "cell_type": "code",
   "execution_count": 19,
   "metadata": {},
   "outputs": [
    {
     "data": {
      "text/plain": [
       "list"
      ]
     },
     "execution_count": 19,
     "metadata": {},
     "output_type": "execute_result"
    }
   ],
   "source": [
    "y=[1,2]\n",
    "type(y)"
   ]
  },
  {
   "cell_type": "markdown",
   "metadata": {},
   "source": [
    "### Diccionarios\n",
    "\n",
    "*  son colecciones que relacionan una clave y un valor\n",
    "*  Mutables\n",
    "*  Como clave podemos utilizar cualquier valor inmutable: podríamos usar números, cadenas, booleanos, tuplas, … pero no listas o diccionarios, dado que son mutables. \n",
    "* La diferencia principal entre los diccionarios y las listas o las tuplas es que a los valores almacenados en un diccionario se les accede no por su índice, porque de hecho no tienen orden, sino por su clave\n",
    "* No se puede utilizar slicing,  porque los diccionarios no son secuencias, sino mappings (mapeados, asociaciones)"
   ]
  },
  {
   "cell_type": "code",
   "execution_count": 23,
   "metadata": {},
   "outputs": [],
   "source": [
    "d = {\"Love Actually\": \"Richard Curtis\", \"Kill Bill\": \"Tarantino\", \"Amélie\": \"Jean-Pierre Jeunet\"}"
   ]
  },
  {
   "cell_type": "code",
   "execution_count": 24,
   "metadata": {},
   "outputs": [
    {
     "data": {
      "text/plain": [
       "'Richard Curtis'"
      ]
     },
     "execution_count": 24,
     "metadata": {},
     "output_type": "execute_result"
    }
   ],
   "source": [
    "d[\"Love Actually\"] "
   ]
  },
  {
   "cell_type": "code",
   "execution_count": 24,
   "metadata": {},
   "outputs": [
    {
     "name": "stdout",
     "output_type": "stream",
     "text": [
      "{'Love Actually': 'Richard Curtis', 'Kill Bill': 'Quentin Tarantino', 'Amélie': 'Jean-Pierre Jeunet'}\n"
     ]
    }
   ],
   "source": [
    "d[\"Kill Bill\"] = \"Quentin Tarantino\"\n",
    "print(d)"
   ]
  },
  {
   "cell_type": "markdown",
   "metadata": {},
   "source": [
    "### 2.pychallenge  "
   ]
  }
 ],
 "metadata": {
  "kernelspec": {
   "display_name": "Python 3",
   "language": "python",
   "name": "python3"
  },
  "language_info": {
   "codemirror_mode": {
    "name": "ipython",
    "version": 3
   },
   "file_extension": ".py",
   "mimetype": "text/x-python",
   "name": "python",
   "nbconvert_exporter": "python",
   "pygments_lexer": "ipython3",
   "version": "3.7.3"
  }
 },
 "nbformat": 4,
 "nbformat_minor": 2
}
